{
  "cells": [
    {
      "cell_type": "markdown",
      "metadata": {
        "id": "view-in-github",
        "colab_type": "text"
      },
      "source": [
        "<a href=\"https://colab.research.google.com/github/dyjdlopez/intro_2_quantum/blob/main/cuda-q/01-introduction-to-quantum-programming.ipynb\" target=\"_parent\"><img src=\"https://colab.research.google.com/assets/colab-badge.svg\" alt=\"Open In Colab\"/></a>"
      ]
    },
    {
      "cell_type": "markdown",
      "metadata": {
        "id": "3dDkPrqwwktc"
      },
      "source": [
        "# 1. Introduction to CUDA-Q and Fundamental Quantum Computing\n",
        "$_{\\text{Made by: @dyjdlopez}}$\n",
        "\n",
        "\n",
        "In this notebook we will look at initial steps in programming quantum algorithms with CUDA-Q.\n",
        "\n",
        "CUDA-Q is **NVIDIA’s platform** for accelerating quantum computing using GPUs. It enables efficient execution of quantum algorithms by integrating classical and quantum processing. Designed for both beginners and experts, CUDA-Q supports **quantum simulations, optimization, and AI applications**, allowing users to explore quantum computing without direct access to quantum hardware.\n",
        "For more details, visit the **[CUDA-Q official website](https://developer.nvidia.com/cuda-quantum)**.\n",
        "\n",
        "![image](https://www.nvidia.com/content/nvidiaGDC/us/en_US/solutions/quantum-computing/_jcr_content/root/responsivegrid/nv_container_1856196339/nv_container/nv_image.coreimg.svg/1731940253298/cuda-quantum-diagram.svg)\n",
        "\n",
        " Although CUDA-Q is not the  initial choice for quantum algorithim programming (unlike Qiskit), its practical use with GPU acceleration allows it to become a good choice for near real-time simulation. Since the flow of the course focuses on the practical applications of quantum computing, it is essential to employ its deployability and interoperability with GPU hardware.\n",
        "\n",
        " ![image](https://www.nvidia.com/content/nvidiaGDC/us/en_US/solutions/quantum-computing/_jcr_content/root/responsivegrid/nv_container_1856196339/nv_container_1543699179/nv_image.coreimg.svg/1731940253076/nvidia-quantum-cloud-diagram.svg)\n"
      ]
    },
    {
      "cell_type": "code",
      "execution_count": null,
      "metadata": {
        "collapsed": true,
        "id": "sWrhs6HdwgH8"
      },
      "outputs": [],
      "source": [
        "!pip install cudaq==0.9.1"
      ]
    },
    {
      "cell_type": "code",
      "execution_count": null,
      "metadata": {
        "id": "DfRT66F710Gl"
      },
      "outputs": [],
      "source": [
        "import cudaq\n",
        "import math"
      ]
    },
    {
      "cell_type": "markdown",
      "metadata": {
        "id": "Vb7rafzh0qZx"
      },
      "source": [
        "# 1.1 Qubits and Quantum Memory  \n",
        "\n",
        "In **quantum computing**, a **qubit** (quantum bit) is the fundamental unit of information, capable of existing in **superposition** (both 0 and 1 simultaneously) and **entanglement** (correlated with other qubits).  \n",
        "\n",
        "In **CUDA-Q** , qubits are stored in **[quantum vectors (`qvector`)](https://nvidia.github.io/cuda-quantum/api_docs/functions/qvector.html)**, which act as **quantum memory** for running quantum circuits. CUDA-Q allows users to **allocate qubits, apply quantum gates, and measure states** efficiently using GPU acceleration.\n"
      ]
    },
    {
      "cell_type": "code",
      "execution_count": null,
      "metadata": {
        "id": "vNUI76kCzaRP"
      },
      "outputs": [],
      "source": [
        "qubit = cudaq.qvector(1) # single qubit\n",
        "qubits = cudaq.qvector(2) # quantum memory consisting of 2 qubits"
      ]
    },
    {
      "cell_type": "code",
      "execution_count": null,
      "metadata": {
        "colab": {
          "base_uri": "https://localhost:8080/"
        },
        "id": "_djpeCu82Dq6",
        "outputId": "8cd33673-fbfd-41d2-b2da-df90e56b1969"
      },
      "outputs": [
        {
          "output_type": "execute_result",
          "data": {
            "text/plain": [
              "1"
            ]
          },
          "metadata": {},
          "execution_count": 3
        }
      ],
      "source": [
        "qubit.size() # checks the size of a quantum memory"
      ]
    },
    {
      "cell_type": "markdown",
      "metadata": {
        "id": "CPzybrHo31vP"
      },
      "source": [
        "# 1.2 Quantum Kernels\n",
        "\n",
        "However, it might not be easy to diagnose the statevector of the quantum memory as is. In CUDA-Q you must create quantum circuit or an ensemble to draw and evaluate quantum states.\n",
        "\n",
        "A **[quantum kernel](https://nvidia.github.io/cuda-quantum/api_docs/python/cudaq.kernel.html)** in CUDA-Q is a function marked with the `@cudaq.kernel` decorator, which indicates that the function contains quantum operations. These operations are executed on quantum hardware or simulators with GPU acceleration."
      ]
    },
    {
      "cell_type": "code",
      "execution_count": null,
      "metadata": {
        "id": "fPuE6km431Uj",
        "colab": {
          "base_uri": "https://localhost:8080/"
        },
        "outputId": "4a08684b-e72c-41b3-b649-dd87956d44b5"
      },
      "outputs": [
        {
          "output_type": "stream",
          "name": "stdout",
          "text": [
            "SV: [(1,0), (0,0), (0,0), (0,0), (0,0), (0,0), (0,0), (0,0)]\n",
            "\n"
          ]
        }
      ],
      "source": [
        "@cudaq.kernel\n",
        "def quantum_circuit():\n",
        "    qubits = cudaq.qvector(3)\n",
        "print(cudaq.get_state(quantum_circuit))"
      ]
    },
    {
      "cell_type": "markdown",
      "metadata": {
        "id": "fUvg8iCJ5mJi"
      },
      "source": [
        "# 1.3 Quantum Gates\n",
        "\n",
        "However, there's nothing exciting with our qubits yet. Ot make it more exciting we need to apply quantum gates!"
      ]
    },
    {
      "cell_type": "markdown",
      "metadata": {
        "id": "AUiL7ke3-CFL"
      },
      "source": [
        "## 1.3.1 Single-qubit Gates\n",
        "\n",
        "**Single-qubit quantum gates** are operations that affect the state of a single qubit. These gates are fundamental in creating superposition, entanglement, or applying rotations in quantum circuits. For more information on single-qubit **[gates](https://nvidia.github.io/cuda-quantum/api_docs/python/cudaq.gates.html)** in CUDA-Q, refer to the documentation.\n",
        "\n",
        "**Common Single-Qubit Gates:**\n",
        "\n",
        "1. **Hadamard Gate (`h`)**  \n",
        "   The Hadamard gate creates a superposition of the $|0⟩$ and $|1⟩$ states. The matrix representation of the Hadamard gate is:\n",
        "\n",
        "   $$\n",
        "   H = \\frac{1}{\\sqrt{2}} \\begin{pmatrix} 1 & 1 \\\\ 1 & -1 \\end{pmatrix}\n",
        "   $$\n",
        "\n",
        "   This maps the |0⟩ state to $|+⟩ = \\frac{|0⟩ + |1⟩}{\\sqrt{2}}$ and the $|1⟩$ state to $|-⟩=\\frac{|0⟩ - |1⟩}{\\sqrt{2}}$.\n",
        "\n",
        "2. **Pauli Gates (X, Y, Z)**  \n",
        "   - **X Gate (NOT gate)**: Flips the state of the qubit, represented as:\n",
        "  $$X= \\begin{pmatrix} 0 & 1 \\\\ 1 & 0 \\end{pmatrix} $$\n",
        "   - **Y Gate**: Applies a rotation along the Y axis:\n",
        "\n",
        "  $$\n",
        "     Y = \\begin{pmatrix} 0 & -i \\\\ i & 0 \\end{pmatrix}\n",
        "  $$\n",
        "\n",
        "   - **Z Gate**: Applies a rotation along the Z axis:\n",
        "\n",
        "  $$\n",
        "     Z = \\begin{pmatrix} 1 & 0 \\\\ 0 & -1 \\end{pmatrix}\n",
        "  $$\n",
        "\n",
        "3. **Phase Gates (S, T)**  \n",
        "   - **S Gate**: Rotates the qubit by $\\frac{\\pi}{2}$:\n",
        "  $$\n",
        "     S = \\begin{pmatrix} 1 & 0 \\\\ 0 & i \\end{pmatrix}\n",
        "  $$\n",
        "\n",
        "   - **T Gate**: Rotates the qubit by $\\frac{\\pi}{4}$:\n",
        "\n",
        "  $$\n",
        "     T = \\begin{pmatrix} 1 & 0 \\\\ 0 & e^{i\\pi/4} \\end{pmatrix}\n",
        "  $$"
      ]
    },
    {
      "cell_type": "code",
      "execution_count": null,
      "metadata": {
        "colab": {
          "base_uri": "https://localhost:8080/"
        },
        "id": "phDpMa9h4hcS",
        "outputId": "94a764e7-4221-4950-e288-fffaaccc1510"
      },
      "outputs": [
        {
          "output_type": "stream",
          "name": "stdout",
          "text": [
            "     ╭───╮╭───╮\n",
            "q0 : ┤ h ├┤ x ├\n",
            "     ╰───╯╰───╯\n",
            "\n",
            "SV: [(0.707107,0), (0.707107,0)]\n",
            "\n"
          ]
        }
      ],
      "source": [
        "# Try to experiment on this circuit to change the gates\n",
        "@cudaq.kernel\n",
        "def quantum_circuit():\n",
        "    qubits = cudaq.qvector(1)  # Declare a quantum vector with 1 qubit\n",
        "    h(qubits[0])               # Apply Hadamard gate (creates superposition)\n",
        "    x(qubits[0])               # Apply X gate (flips the qubit)\n",
        "\n",
        "print(cudaq.draw(quantum_circuit)) ## make a simple visualization of the circuit.\n",
        "print(cudaq.get_state(quantum_circuit))"
      ]
    },
    {
      "cell_type": "markdown",
      "metadata": {
        "id": "hiMj4_A--MGA"
      },
      "source": [
        "## 1.3.2 Measurement Gates\n",
        "\n",
        "In quantum computing, **measurement** is the process of determining the state of a qubit. Unlike classical bits, quantum bits (qubits) exist in a superposition of states, and measuring a qubit forces it into one of its basis states ($|0⟩$ or $|1⟩$). This process is crucial for extracting information from a quantum system.\n",
        "\n",
        "In **CUDA-Q**, measurement is done using the **`mz`** (measure) gate. The `mz` gate measures the state of a quantum vector and collapses it into one of the basis states, either $|0⟩$ or $|1⟩$. After measurement, the result can be used in classical calculations.\n",
        "\n",
        "Measurement is an essential part of quantum algorithms as it provides the classical output after quantum operations.\n",
        "\n"
      ]
    },
    {
      "cell_type": "code",
      "execution_count": null,
      "metadata": {
        "colab": {
          "base_uri": "https://localhost:8080/"
        },
        "id": "x_biY1UP9LM7",
        "outputId": "6bc15af2-201b-4b3d-9cc4-6aee264d8fe6"
      },
      "outputs": [
        {
          "output_type": "stream",
          "name": "stdout",
          "text": [
            "     ╭───╮\n",
            "q0 : ┤ h ├\n",
            "     ╰───╯\n",
            "\n",
            "{ 0:513 1:487 }\n",
            "\n",
            "SV: [(0,0), (1,0)]\n",
            "\n"
          ]
        }
      ],
      "source": [
        "@cudaq.kernel\n",
        "def quantum_circuit():\n",
        "    qubit = cudaq.qvector(1)  # Declare a quantum vector with 1 qubit\n",
        "    h(qubit[0])               # Apply Hadamard gate (creates superposition)\n",
        "    mz(qubit)                 # Measure the qubit and store the result\n",
        "\n",
        "\n",
        "# Execute the quantum circuit and get measurement results\n",
        "print(cudaq.draw(quantum_circuit))\n",
        "result = cudaq.sample(quantum_circuit)\n",
        "print(result)\n",
        "print(cudaq.get_state(quantum_circuit))"
      ]
    },
    {
      "cell_type": "markdown",
      "source": [
        "## 1.3.3 Multi-Qubit Operations in CUDA-Q\n",
        "\n",
        "Multi-qubit operations are fundamental for creating entanglement and enabling quantum algorithms. In **CUDA-Q**, you can perform multi-qubit operations on quantum vectors, manipulating multiple qubits simultaneously.\n",
        "\n",
        "**Key Multi-Qubit Operations:**\n",
        "\n",
        "1. **CNOT Gate (Controlled-NOT)**  \n",
        "   The **CNOT gate** creates entanglement between qubits. It applies a **NOT** operation to the target qubit only if the control qubit is in the |1⟩ state. The matrix representation is:\n",
        "\n",
        "   $$\n",
        "   \\text{CNOT} = \\begin{pmatrix}\n",
        "   1 & 0 & 0 & 0 \\\\\n",
        "   0 & 1 & 0 & 0 \\\\\n",
        "   0 & 0 & 0 & 1 \\\\\n",
        "   0 & 0 & 1 & 0\n",
        "   \\end{pmatrix}\n",
        "   $$\n",
        "\n",
        "2. **SWAP Gate**  \n",
        "   The **SWAP gate** exchanges the states of two qubits. It is represented as:\n",
        "\n",
        "   $$\n",
        "   \\text{SWAP} = \\begin{pmatrix}\n",
        "   1 & 0 & 0 & 0 \\\\\n",
        "   0 & 0 & 1 & 0 \\\\\n",
        "   0 & 1 & 0 & 0 \\\\\n",
        "   0 & 0 & 0 & 1\n",
        "   \\end{pmatrix}\n",
        "   $$\n",
        "\n",
        "3. **Toffoli Gate (Controlled-Controlled-NOT, CCNOT)**  \n",
        "   The **Toffoli gate** (also known as the **CCNOT gate**) flips the target qubit if both control qubits are in the |1⟩ state. The matrix for a 3-qubit Toffoli gate is:\n",
        "\n",
        "   $$\n",
        "   \\text{CCNOT} = \\begin{pmatrix}\n",
        "   1 & 0 & 0 & 0 & 0 & 0 & 0 & 0 \\\\\n",
        "   0 & 1 & 0 & 0 & 0 & 0 & 0 & 0 \\\\\n",
        "   0 & 0 & 1 & 0 & 0 & 0 & 0 & 0 \\\\\n",
        "   0 & 0 & 0 & 1 & 0 & 0 & 0 & 0 \\\\\n",
        "   0 & 0 & 0 & 0 & 1 & 0 & 0 & 0 \\\\\n",
        "   0 & 0 & 0 & 0 & 0 & 1 & 0 & 0 \\\\\n",
        "   0 & 0 & 0 & 0 & 0 & 0 & 0 & 1 \\\\\n",
        "   0 & 0 & 0 & 0 & 0 & 0 & 1 & 0\n",
        "   \\end{pmatrix}\n",
        "   $$"
      ],
      "metadata": {
        "id": "rzyQKJ4Qg1mH"
      }
    },
    {
      "cell_type": "code",
      "source": [
        "@cudaq.kernel\n",
        "def quantum_circuit():\n",
        "    qubits = cudaq.qvector(2)   # Declare a quantum vector with 2 qubits\n",
        "    h(qubits[0])                # Apply Hadamard gate on qubit 0 (creates superposition)\n",
        "    cx(qubits[0], qubits[1])    # Apply CNOT gate (entangles qubits 0 and 1)\n",
        "    # mz(qubits)\n",
        "\n",
        "\n",
        "print(cudaq.draw(quantum_circuit))\n",
        "print(cudaq.get_state(quantum_circuit))\n",
        "\n",
        "# To observe the probabilities, uncomment the Mz gate\n",
        "# result = cudaq.sample(quantum_circuit)\n",
        "# print(result)"
      ],
      "metadata": {
        "colab": {
          "base_uri": "https://localhost:8080/"
        },
        "id": "PzSeynbwho-1",
        "outputId": "e1114c9f-1386-40ce-d45f-20e25be7f8d1"
      },
      "execution_count": null,
      "outputs": [
        {
          "output_type": "stream",
          "name": "stdout",
          "text": [
            "     ╭───╮     \n",
            "q0 : ┤ h ├──●──\n",
            "     ╰───╯╭─┴─╮\n",
            "q1 : ─────┤ x ├\n",
            "          ╰───╯\n",
            "\n",
            "SV: [(0.707107,0), (0,0), (0,0), (0.707107,0)]\n",
            "\n"
          ]
        }
      ]
    },
    {
      "cell_type": "code",
      "source": [
        "## Alternative way for creating a CNOT operation\n",
        "@cudaq.kernel\n",
        "def quantum_circuit():\n",
        "    qubits = cudaq.qvector(2)\n",
        "    h(qubits[0])\n",
        "    x.ctrl(qubits[0], qubits[1])\n",
        "    mz(qubits)\n",
        "\n",
        "# Execute the quantum circuit and get measurement results\n",
        "print(cudaq.draw(quantum_circuit))\n",
        "result = cudaq.sample(quantum_circuit)\n",
        "print(result)"
      ],
      "metadata": {
        "colab": {
          "base_uri": "https://localhost:8080/"
        },
        "id": "nWrR9_kIjIRi",
        "outputId": "37372f93-43a9-4e3b-93c3-6f84b31b106c"
      },
      "execution_count": null,
      "outputs": [
        {
          "output_type": "stream",
          "name": "stdout",
          "text": [
            "     ╭───╮     \n",
            "q0 : ┤ h ├──●──\n",
            "     ╰───╯╭─┴─╮\n",
            "q1 : ─────┤ x ├\n",
            "          ╰───╯\n",
            "\n",
            "{ 00:490 11:510 }\n",
            "\n"
          ]
        }
      ]
    },
    {
      "cell_type": "code",
      "source": [
        "@cudaq.kernel\n",
        "def quantum_circuit():\n",
        "    qubits = cudaq.qvector(2)\n",
        "    x(qubits[0])\n",
        "    swap(qubits[0], qubits[1])\n",
        "    mz(qubits)\n",
        "\n",
        "# Execute the quantum circuit and get measurement results\n",
        "print(cudaq.draw(quantum_circuit))\n",
        "result = cudaq.sample(quantum_circuit)\n",
        "print(result)"
      ],
      "metadata": {
        "colab": {
          "base_uri": "https://localhost:8080/"
        },
        "id": "2BHO7tnvhsYs",
        "outputId": "f20038c0-75a1-418b-f8eb-ae30d96896dc"
      },
      "execution_count": null,
      "outputs": [
        {
          "output_type": "stream",
          "name": "stdout",
          "text": [
            "     ╭───╮   \n",
            "q0 : ┤ x ├─╳─\n",
            "     ╰───╯ │ \n",
            "q1 : ──────╳─\n",
            "             \n",
            "\n",
            "{ 01:1000 }\n",
            "\n"
          ]
        }
      ]
    },
    {
      "cell_type": "markdown",
      "source": [
        "### Exercise 1\n",
        "Create a Toffoli Gate for a 3-qubit memory in CUDA-Q. You may read the documentation on [Quantum Operations](https://nvidia.github.io/cuda-quantum/latest/api/default_ops.html#) further for clues."
      ],
      "metadata": {
        "id": "gSM-1J51jmob"
      }
    },
    {
      "cell_type": "code",
      "source": [
        "@cudaq.kernel\n",
        "def act1_qc():\n",
        "  num_qubits = 0 # Edit this part\n",
        "  qubits = cudaq.qvector(num_qubits)\n",
        "  ## Add the code for the Toffoli gate after this line\n",
        "\n",
        "  ## Do not edit beyond this point\n",
        "  mz(qubits)\n",
        "\n",
        "print(cudaq.draw(act1_qc))\n",
        "result = cudaq.sample(act1_qc)\n",
        "print(result)"
      ],
      "metadata": {
        "id": "ANAr83FhkFBM"
      },
      "execution_count": null,
      "outputs": []
    },
    {
      "cell_type": "markdown",
      "source": [
        "Expected output:\n",
        "\n",
        "```\n",
        "          \n",
        "q0 : ──●──\n",
        "       │  \n",
        "q1 : ──●──\n",
        "     ╭─┴─╮\n",
        "q2 : ┤ x ├\n",
        "     ╰───╯\n",
        "{ 000:1000 }\n",
        "```\n",
        "\n",
        "\n",
        "\n",
        "\n"
      ],
      "metadata": {
        "id": "5X7HsSKfkhAl"
      }
    },
    {
      "cell_type": "markdown",
      "source": [
        "# 1.4 Parametric Gates\n",
        "Parametric gates are quantum gates that take a parameter, typically an angle, which determines the operation applied to a qubit. These gates are essential for performing rotations and are often used in quantum algorithms to manipulate qubit states in a controlled manner."
      ],
      "metadata": {
        "id": "ZubeOsqtlqAZ"
      }
    },
    {
      "cell_type": "markdown",
      "source": [
        "## 1.4.1 Rotation Gates\n",
        "\n",
        "\n",
        "1. **RZ Gate (Rotation around the Z-axis)**  \n",
        "   The **RZ gate** performs a rotation around the Z-axis by an angle $\\theta$. The matrix representation is:\n",
        "\n",
        "   $$\n",
        "   R_Z(\\theta) = \\begin{pmatrix}\n",
        "   e^{-i\\theta/2} & 0 \\\\\n",
        "   0 & e^{i\\theta/2}\n",
        "   \\end{pmatrix}\n",
        "   $$\n",
        "\n",
        "   This gate shifts the phase of the qubit.\n",
        "\n",
        "2. **RX Gate (Rotation around the X-axis)**  \n",
        "   The **RX gate** rotates the qubit around the X-axis by an angle $theta$. The matrix for this gate is:\n",
        "\n",
        "   $$\n",
        "   R_X(\\theta) = \\begin{pmatrix}\n",
        "   \\cos(\\theta/2) & -i\\sin(\\theta/2) \\\\\n",
        "   -i\\sin(\\theta/2) & \\cos(\\theta/2)\n",
        "   \\end{pmatrix}\n",
        "   $$\n",
        "\n",
        "3. **RY Gate (Rotation around the Y-axis)**  \n",
        "   The **RY gate** rotates the qubit around the Y-axis by an angle $\\theta$. Its matrix representation is:\n",
        "\n",
        "   $$\n",
        "   R_Y(\\theta) = \\begin{pmatrix}\n",
        "   \\cos(\\theta/2) & -\\sin(\\theta/2) \\\\\n",
        "   \\sin(\\theta/2) & \\cos(\\theta/2)\n",
        "   \\end{pmatrix}\n",
        "   $$"
      ],
      "metadata": {
        "id": "pp0i6M5LmVpw"
      }
    },
    {
      "cell_type": "code",
      "source": [
        "@cudaq.kernel\n",
        "def quantum_circuit():\n",
        "    qubits = cudaq.qvector(1)\n",
        "    rz(math.pi/4, qubits[0])\n",
        "    rx(math.pi/3, qubits[0])\n",
        "    ry(math.pi/6, qubits[0])\n",
        "\n",
        "print(cudaq.draw(quantum_circuit))\n",
        "print(cudaq.get_state(quantum_circuit))"
      ],
      "metadata": {
        "colab": {
          "base_uri": "https://localhost:8080/"
        },
        "id": "PJ6HhZuslvi7",
        "outputId": "4b4ff330-61c8-49c2-96f2-509706eed2a9"
      },
      "execution_count": null,
      "outputs": [
        {
          "output_type": "stream",
          "name": "stdout",
          "text": [
            "     ╭────────────╮╭───────────╮╭────────────╮\n",
            "q0 : ┤ rz(0.7854) ├┤ rx(1.047) ├┤ ry(0.5236) ├\n",
            "     ╰────────────╯╰───────────╯╰────────────╯\n",
            "\n",
            "SV: [(0.822363,-0.200562), (0.02226,-0.531976)]\n",
            "\n"
          ]
        }
      ]
    },
    {
      "cell_type": "markdown",
      "source": [
        "### Exercise 2\n",
        "Create a parametrized circuit that takes in three variables `theta_1`, `theta_2`, and `theta_3`. Follow the circuit design below:\n",
        "\n",
        "\n",
        "```\n",
        "     ╭────────────╮╭───────────╮╭────────────╮\n",
        "q0 : ┤rx(theta_1) ├┤ry(theta_2)├┤ rz(theta_3)├\n",
        "     ╰────────────╯╰───────────╯╰────────────╯\n",
        "```\n",
        "\n",
        "Note that the variable names should not be reflected in printing the circuit drawing, they should show numerical values."
      ],
      "metadata": {
        "id": "nVi9laC5nYYz"
      }
    },
    {
      "cell_type": "markdown",
      "source": [
        "## 1.4.2 The U3 Gate\n",
        "\n",
        "\n",
        "The **U3 gate** is a universal single-qubit gate that allows for rotations on a qubit with three parameters: **$\\theta$**, **$\\phi$**, and **$\\lambda$**. These parameters represent Euler angles and define the rotation of a qubit on the Bloch sphere. The matrix representation of the U3 gate is:\n",
        "\n",
        "$$\n",
        "U_3(\\theta, \\phi, \\lambda) = \\begin{pmatrix}\n",
        "\\cos(\\theta/2) & -e^{i\\lambda} \\sin(\\theta/2) \\\\\n",
        "e^{i\\phi} \\sin(\\theta/2) & e^{i(\\phi + \\lambda)} \\cos(\\theta/2)\n",
        "\\end{pmatrix}\n",
        "$$\n",
        "\n",
        "Where:\n",
        "- **$\\theta$** is the rotation angle.\n",
        "- **$\\phi$** and **$\\lambda$** are phase parameters that influence the qubit's components.\n",
        "\n",
        "This gate is universal, meaning it can simulate any single-qubit operation by selecting the appropriate values for **$\\theta$**, **$\\phi$**, and **$\\lambda$**. It can reproduce gates like **Hadamard**, **Pauli-X**, **Pauli-Y**, **Pauli-Z**, and others.\n"
      ],
      "metadata": {
        "id": "QqA5JKgkpRbH"
      }
    },
    {
      "cell_type": "code",
      "source": [
        "@cudaq.kernel\n",
        "def quantum_circuit(theta: float, phi:float, lmbda:float):\n",
        "  qubits = cudaq.qvector(1)\n",
        "  u3(theta, phi, lmbda, qubits[0])\n",
        "\n",
        "th, ph, lmb = math.pi/2, math.pi, math.pi/4\n",
        "print(cudaq.draw(quantum_circuit, th, ph, lmb))\n",
        "state = cudaq.get_state(quantum_circuit, th, ph, lmb)\n",
        "print(state)"
      ],
      "metadata": {
        "colab": {
          "base_uri": "https://localhost:8080/"
        },
        "id": "finRFbQdmqt8",
        "outputId": "89c8c7ff-17da-4277-c328-99dd1827ab64"
      },
      "execution_count": null,
      "outputs": [
        {
          "output_type": "stream",
          "name": "stdout",
          "text": [
            "     ╭────────────────────────╮\n",
            "q0 : ┤ u3(1.571,3.142,0.7854) ├\n",
            "     ╰────────────────────────╯\n",
            "\n",
            "SV: [(0.707107,0), (-0.707107,-6.18172e-08)]\n",
            "\n"
          ]
        }
      ]
    },
    {
      "cell_type": "markdown",
      "source": [
        "### Exercise 3\n",
        "What values of $\\theta$, $\\phi$, and $\\lambda$ that would make the U3 gate have equal statevector values as the $H$, $X$, $Y$, $Z$, and $T$ gates?\n",
        "\n",
        "Use whichever method that you could use. Provide the mathematical proof and solution. (You are expected to provide 5 sets of $\\theta$, $\\phi$, and $\\lambda$ values corresponding to the gates.)"
      ],
      "metadata": {
        "id": "NTXtJ_HcwCMC"
      }
    },
    {
      "cell_type": "code",
      "source": [],
      "metadata": {
        "id": "gX42XJuzabR0"
      },
      "execution_count": null,
      "outputs": []
    },
    {
      "cell_type": "markdown",
      "source": [
        "---\n",
        "\n",
        "---\n",
        "$$_{\\text{END OF FILE}}$$\n",
        "$$_{\\text{D.J.D. Lopez | © 2025}}$$"
      ],
      "metadata": {
        "id": "lvGiKeHxaDtP"
      }
    }
  ],
  "metadata": {
    "accelerator": "GPU",
    "colab": {
      "gpuType": "T4",
      "provenance": [],
      "authorship_tag": "ABX9TyPT0yhdX0RUdkf/sxasvNag",
      "include_colab_link": true
    },
    "kernelspec": {
      "display_name": "Python 3",
      "name": "python3"
    },
    "language_info": {
      "name": "python"
    }
  },
  "nbformat": 4,
  "nbformat_minor": 0
}